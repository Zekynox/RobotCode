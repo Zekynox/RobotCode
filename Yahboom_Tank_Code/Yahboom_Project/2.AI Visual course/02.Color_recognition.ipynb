{
 "cells": [
  {
   "cell_type": "markdown",
   "metadata": {},
   "source": [
    "<center><img src=\"../logo.png\" alt=\"Header\" style=\"width: 800px;\"/></center>"
   ]
  },
  {
   "cell_type": "markdown",
   "metadata": {},
   "source": [
    "\n",
    "@Copyright (C): 2010-2020, Shenzhen Yahboom Tech  \n",
    "@Author: Liusen  \n",
    "@Date: 2020-02-04 17:20:02  \n",
    "@LastEditors: Liusen  \n",
    "@LastEditTime: 2020-02-05 18:50:02   "
   ]
  },
  {
   "cell_type": "code",
   "execution_count": null,
   "metadata": {},
   "outputs": [],
   "source": [
    "#bgr8 to jpeg format\n",
    "import enum\n",
    "import cv2\n",
    "\n",
    "def bgr8_to_jpeg(value, quality=75):\n",
    "    return bytes(cv2.imencode('.jpg', value)[1])"
   ]
  },
  {
   "cell_type": "code",
   "execution_count": null,
   "metadata": {},
   "outputs": [],
   "source": [
    "#Camera component display\n",
    "import traitlets\n",
    "import ipywidgets.widgets as widgets\n",
    "import time\n",
    "# Thread function operation library\n",
    "import threading\n",
    "import inspect\n",
    "import ctypes\n",
    "\n",
    "origin_widget = widgets.Image(format='jpeg', width=320, height=240)\n",
    "mask_widget = widgets.Image(format='jpeg',width=320, height=240)\n",
    "result_widget = widgets.Image(format='jpeg',width=320, height=240)\n",
    "\n",
    "# create a horizontal box container to place the image widget next to eachother\n",
    "image_container = widgets.HBox([origin_widget, mask_widget, result_widget])\n",
    "\n",
    "display(image_container)"
   ]
  },
  {
   "cell_type": "code",
   "execution_count": null,
   "metadata": {},
   "outputs": [],
   "source": [
    "#Thread related functions\n",
    "def _async_raise(tid, exctype):\n",
    "    \"\"\"raises the exception, performs cleanup if needed\"\"\"\n",
    "    tid = ctypes.c_long(tid)\n",
    "    if not inspect.isclass(exctype):\n",
    "        exctype = type(exctype)\n",
    "    res = ctypes.pythonapi.PyThreadState_SetAsyncExc(tid, ctypes.py_object(exctype))\n",
    "    if res == 0:\n",
    "        raise ValueError(\"invalid thread id\")\n",
    "    elif res != 1:\n",
    "        # \"\"\"if it returns a number greater than one, you're in trouble,\n",
    "        # and you should call it again with exc=NULL to revert the effect\"\"\"\n",
    "        ctypes.pythonapi.PyThreadState_SetAsyncExc(tid, None)\n",
    "        \n",
    "def stop_thread(thread):\n",
    "    _async_raise(thread.ident, SystemExit)"
   ]
  },
  {
   "cell_type": "code",
   "execution_count": null,
   "metadata": {},
   "outputs": [],
   "source": []
  },
  {
   "cell_type": "markdown",
   "metadata": {},
   "source": [
    "# Main process function"
   ]
  },
  {
   "cell_type": "code",
   "execution_count": null,
   "metadata": {},
   "outputs": [],
   "source": [
    "import cv2\n",
    "import numpy as np\n",
    "import ipywidgets.widgets as widgets\n",
    "\n",
    "\n",
    "cap = cv2.VideoCapture(0)\n",
    "cap.set(3, 640)\n",
    "cap.set(4, 480)\n",
    "cap.set(5, 120)  #设置帧率\n",
    "cap.set(cv2.CAP_PROP_FOURCC, cv2.VideoWriter.fourcc('M', 'J', 'P', 'G'))\n",
    "# image.set(cv2.CAP_PROP_BRIGHTNESS, 40) #设置亮度 -64 - 64  0.0\n",
    "# image.set(cv2.CAP_PROP_CONTRAST, 50)   #设置对比度 -64 - 64  2.0\n",
    "# image.set(cv2.CAP_PROP_EXPOSURE, 156)  #设置曝光值 1.0 - 5000  156.0\n",
    "\n",
    "\n",
    "# The default selection is red, if you want to recognize other colors, \n",
    "# please close the code in the red section, and open the code section of the other section\n",
    "color_lower = np.array([0, 43, 46])\n",
    "color_upper = np.array([10, 255, 255])\n",
    "\n",
    "# #Green section\n",
    "# color_lower = np.array([35, 43, 46])\n",
    "# color_upper = np.array([77, 255, 255])\n",
    "\n",
    "# # Blue section\n",
    "# color_lower=np.array([100, 43, 46])\n",
    "# color_upper = np.array([124, 255, 255])\n",
    "\n",
    "# # Yellow section\n",
    "# color_lower = np.array([26, 43, 46])\n",
    "# color_upper = np.array([34, 255, 255])\n",
    "\n",
    "# #Orange section\n",
    "# color_lower = np.array([11, 43, 46])\n",
    "# color_upper = np.array([25, 255, 255])\n",
    "\n",
    "\n",
    "def Color_Recongnize():\n",
    "    \n",
    "    while(1):\n",
    "        # get a frame and show \n",
    "        #Get the video frame and convert it to HSV format, use cvtColor () to convert the BGR format to HSV format, the parameter is cv2.COLOR_BGR2HSV.\n",
    "        ret, frame = cap.read()\n",
    "        #cv2.imshow('Capture', frame)\n",
    "        origin_widget.value = bgr8_to_jpeg(frame)\n",
    "\n",
    "        # change to hsv model\n",
    "        hsv = cv2.cvtColor(frame, cv2.COLOR_BGR2HSV)\n",
    "\n",
    "        # get mask Use the inRange () function and the upper and lower bounds of the blue range in the HSV model to obtain the mask. The blue part of the original video in the mask will be made white, and the other parts are black.\n",
    "        mask = cv2.inRange(hsv, color_lower, color_upper)\n",
    "        #cv2.imshow('Mask', mask)\n",
    "        mask_widget.value = bgr8_to_jpeg(mask)\n",
    "\n",
    "        # detect blue Bitwise and operate the mask on the original video frame, the white in the mask will be replaced with the real image.\n",
    "        res = cv2.bitwise_and(frame, frame, mask=mask)\n",
    "        #cv2.imshow('Result', res)\n",
    "        result_widget.value = bgr8_to_jpeg(res)\n",
    "\n",
    "        #     if cv2.waitKey(1) & 0xFF == ord('q'):\n",
    "        #         break\n",
    "        time.sleep(0.01)\n",
    "\n",
    "\n",
    "    cap.release()\n",
    "    #cv2.destroyAllWindows()"
   ]
  },
  {
   "cell_type": "code",
   "execution_count": null,
   "metadata": {},
   "outputs": [],
   "source": [
    "#Start process\n",
    "thread1 = threading.Thread(target=Color_Recongnize)\n",
    "thread1.setDaemon(True)\n",
    "thread1.start()"
   ]
  },
  {
   "cell_type": "code",
   "execution_count": null,
   "metadata": {},
   "outputs": [],
   "source": [
    "#When we need to end the entire program process, we need to run the code\n",
    "stop_thread(thread1)"
   ]
  },
  {
   "cell_type": "code",
   "execution_count": null,
   "metadata": {},
   "outputs": [],
   "source": []
  },
  {
   "cell_type": "code",
   "execution_count": null,
   "metadata": {},
   "outputs": [],
   "source": []
  }
 ],
 "metadata": {
  "kernelspec": {
   "display_name": "Python 3",
   "language": "python",
   "name": "python3"
  },
  "language_info": {
   "codemirror_mode": {
    "name": "ipython",
    "version": 3
   },
   "file_extension": ".py",
   "mimetype": "text/x-python",
   "name": "python",
   "nbconvert_exporter": "python",
   "pygments_lexer": "ipython3",
   "version": "3.7.3"
  }
 },
 "nbformat": 4,
 "nbformat_minor": 4
}
