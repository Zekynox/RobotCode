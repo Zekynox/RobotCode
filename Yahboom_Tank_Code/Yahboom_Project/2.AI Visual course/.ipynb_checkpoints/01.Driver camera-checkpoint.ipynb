{
 "cells": [
  {
   "cell_type": "markdown",
   "metadata": {},
   "source": [
    "<center><img src=\"../logo.png\" alt=\"Header\" style=\"width: 800px;\"/></center>"
   ]
  },
  {
   "cell_type": "markdown",
   "metadata": {},
   "source": [
    "\n",
    "@Copyright (C): 2010-2020, Shenzhen Yahboom Tech  \n",
    "@Author: Liusen  \n",
    "@Date: 2020-02-04 16:20:02  \n",
    "@LastEditors: Liusen  \n",
    "@LastEditTime: 2020-02-04 16:20:02   "
   ]
  },
  {
   "cell_type": "code",
   "execution_count": null,
   "metadata": {},
   "outputs": [],
   "source": [
    "import cv2\n",
    "import ipywidgets.widgets as widgets\n",
    "import threading\n",
    "import time\n",
    "\n",
    "image_widget = widgets.Image(format='jpeg', width=600, height=500)  #display camera component\n",
    "display(image_widget)                                              "
   ]
  },
  {
   "cell_type": "code",
   "execution_count": null,
   "metadata": {},
   "outputs": [],
   "source": [
    "#bgr 8 to jpeg format\n",
    "import enum\n",
    "import cv2\n",
    "\n",
    "def bgr8_to_jpeg(value, quality=75):\n",
    "    return bytes(cv2.imencode('.jpg', value)[1])"
   ]
  },
  {
   "cell_type": "code",
   "execution_count": null,
   "metadata": {},
   "outputs": [],
   "source": [
    "image = cv2.VideoCapture(0)                           #Open camera\n",
    "\n",
    "# width=1280\n",
    "# height=960\n",
    "# cap.set(cv2.CAP_PROP_FRAME_WIDTH,width) #set width of image\n",
    "# cap.set(cv2.CAP_PROP_FRAME_HEIGHT,height) #set height of image\n",
    "\n",
    "image.set(3,600)       \n",
    "image.set(4,500)\n",
    "image.set(5, 30)  #set frame \n",
    "image.set(cv2.CAP_PROP_FOURCC, cv2.VideoWriter.fourcc('M', 'J', 'P', 'G'))\n",
    "image.set(cv2.CAP_PROP_BRIGHTNESS, 40) #set brightness -64 - 64  0.0\n",
    "image.set(cv2.CAP_PROP_CONTRAST, 50)   #set contrast-64 - 64  2.0\n",
    "image.set(cv2.CAP_PROP_EXPOSURE, 156)  #set exposure value 1.0 - 5000  156.0\n",
    "\n",
    "ret, frame = image.read()     #read camera data\n",
    "image_widget.value = bgr8_to_jpeg(frame)"
   ]
  },
  {
   "cell_type": "code",
   "execution_count": null,
   "metadata": {},
   "outputs": [],
   "source": [
    "while 1:\n",
    "    ret, frame = image.read()\n",
    "    image_widget.value = bgr8_to_jpeg(frame)\n",
    "    time.sleep(0.010)"
   ]
  },
  {
   "cell_type": "code",
   "execution_count": null,
   "metadata": {},
   "outputs": [],
   "source": [
    "image.release()  #After using the object, we need to release the object, otherwise when we use the object again, the system will prompt that the object be occupied, making it unusable."
   ]
  },
  {
   "cell_type": "code",
   "execution_count": null,
   "metadata": {},
   "outputs": [],
   "source": []
  }
 ],
 "metadata": {
  "kernelspec": {
   "display_name": "Python 3",
   "language": "python",
   "name": "python3"
  },
  "language_info": {
   "codemirror_mode": {
    "name": "ipython",
    "version": 3
   },
   "file_extension": ".py",
   "mimetype": "text/x-python",
   "name": "python",
   "nbconvert_exporter": "python",
   "pygments_lexer": "ipython3",
   "version": "3.7.3"
  }
 },
 "nbformat": 4,
 "nbformat_minor": 4
}
