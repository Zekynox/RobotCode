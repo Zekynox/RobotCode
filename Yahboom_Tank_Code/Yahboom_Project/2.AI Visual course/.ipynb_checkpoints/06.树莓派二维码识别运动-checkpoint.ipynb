{
 "cells": [
  {
   "cell_type": "markdown",
   "metadata": {},
   "source": [
    "<center><img src=\"../logo.png\" alt=\"Header\" style=\"width: 800px;\"/></center>"
   ]
  },
  {
   "cell_type": "markdown",
   "metadata": {},
   "source": [
    "\n",
    "@Copyright (C): 2010-2020, Shenzhen Yahboom Tech  \n",
    "@Author: Liusen  \n",
    "@Date: 2020-02-09 14:00:02  \n",
    "@LastEditors: Liusen  \n",
    "@LastEditTime: 2020-02-09 14:00:02     "
   ]
  },
  {
   "cell_type": "code",
   "execution_count": 1,
   "metadata": {},
   "outputs": [],
   "source": [
    "#bgr8转jpeg格式\n",
    "import enum\n",
    "import cv2\n",
    "\n",
    "def bgr8_to_jpeg(value, quality=75):\n",
    "    return bytes(cv2.imencode('.jpg', value)[1])"
   ]
  },
  {
   "cell_type": "markdown",
   "metadata": {},
   "source": [
    "# 导入库并显示摄像头显示组件"
   ]
  },
  {
   "cell_type": "code",
   "execution_count": 2,
   "metadata": {},
   "outputs": [
    {
     "data": {
      "application/vnd.jupyter.widget-view+json": {
       "model_id": "1cc0fe33000d4d94b36447c4b6b37ec1",
       "version_major": 2,
       "version_minor": 0
      },
      "text/plain": [
       "Image(value=b'', format='jpeg', height='240', width='320')"
      ]
     },
     "metadata": {},
     "output_type": "display_data"
    }
   ],
   "source": [
    "# import the necessary packages\n",
    "#import simple_barcode_detection\n",
    "import cv2\n",
    "import numpy as np\n",
    "import pyzbar.pyzbar as pyzbar\n",
    "from PIL import Image\n",
    "import ipywidgets.widgets as widgets\n",
    "\n",
    "#-*- coding:UTF-8 -*-\n",
    "import RPi.GPIO as GPIO\n",
    "import time\n",
    "\n",
    "#设置GPIO口为BCM编码方式\n",
    "GPIO.setmode(GPIO.BCM)\n",
    "\n",
    "#忽略警告信息\n",
    "GPIO.setwarnings(False)\n",
    "\n",
    "#小车电机引脚定义\n",
    "IN1 = 20\n",
    "IN2 = 21\n",
    "IN3 = 19\n",
    "IN4 = 26\n",
    "ENA = 16\n",
    "ENB = 13\n",
    "\n",
    "image_widget = widgets.Image(format='jpeg', width=320, height=240)\n",
    "display(image_widget)                                      #显示摄像头组件"
   ]
  },
  {
   "cell_type": "code",
   "execution_count": 3,
   "metadata": {},
   "outputs": [],
   "source": [
    "# 定义小车运行方向，时间和电机引脚的初始化"
   ]
  },
  {
   "cell_type": "code",
   "execution_count": 4,
   "metadata": {},
   "outputs": [],
   "source": [
    "#电机引脚初始化操作\n",
    "def motor_init():\n",
    "    global pwm_ENA\n",
    "    global pwm_ENB\n",
    "    global delaytime\n",
    "    GPIO.setup(ENA,GPIO.OUT,initial=GPIO.HIGH)\n",
    "    GPIO.setup(IN1,GPIO.OUT,initial=GPIO.LOW)\n",
    "    GPIO.setup(IN2,GPIO.OUT,initial=GPIO.LOW)\n",
    "    GPIO.setup(ENB,GPIO.OUT,initial=GPIO.HIGH)\n",
    "    GPIO.setup(IN3,GPIO.OUT,initial=GPIO.LOW)\n",
    "    GPIO.setup(IN4,GPIO.OUT,initial=GPIO.LOW)\n",
    "    #设置pwm引脚和频率为2000hz\n",
    "    pwm_ENA = GPIO.PWM(ENA, 2000)\n",
    "    pwm_ENB = GPIO.PWM(ENB, 2000)\n",
    "    pwm_ENA.start(0)\n",
    "    pwm_ENB.start(0)\n",
    "\n",
    "#小车前进\t\n",
    "def run(delaytime):\n",
    "    GPIO.output(IN1, GPIO.HIGH)\n",
    "    GPIO.output(IN2, GPIO.LOW)\n",
    "    GPIO.output(IN3, GPIO.HIGH)\n",
    "    GPIO.output(IN4, GPIO.LOW)\n",
    "    pwm_ENA.ChangeDutyCycle(80)\n",
    "    pwm_ENB.ChangeDutyCycle(80)\n",
    "    time.sleep(delaytime)\n",
    "\n",
    "#小车后退\n",
    "def back(delaytime):\n",
    "    GPIO.output(IN1, GPIO.LOW)\n",
    "    GPIO.output(IN2, GPIO.HIGH)\n",
    "    GPIO.output(IN3, GPIO.LOW)\n",
    "    GPIO.output(IN4, GPIO.HIGH)\n",
    "    pwm_ENA.ChangeDutyCycle(80)\n",
    "    pwm_ENB.ChangeDutyCycle(80)\n",
    "    time.sleep(delaytime)\n",
    "\n",
    "#小车左转\t\n",
    "def left(delaytime):\n",
    "    GPIO.output(IN1, GPIO.LOW)\n",
    "    GPIO.output(IN2, GPIO.LOW)\n",
    "    GPIO.output(IN3, GPIO.HIGH)\n",
    "    GPIO.output(IN4, GPIO.LOW)\n",
    "    pwm_ENA.ChangeDutyCycle(80)\n",
    "    pwm_ENB.ChangeDutyCycle(80)\n",
    "    time.sleep(delaytime)\n",
    "\n",
    "#小车右转\n",
    "def right(delaytime):\n",
    "    GPIO.output(IN1, GPIO.HIGH)\n",
    "    GPIO.output(IN2, GPIO.LOW)\n",
    "    GPIO.output(IN3, GPIO.LOW)\n",
    "    GPIO.output(IN4, GPIO.LOW)\n",
    "    pwm_ENA.ChangeDutyCycle(80)\n",
    "    pwm_ENB.ChangeDutyCycle(80)\n",
    "    time.sleep(delaytime)\n",
    "\n",
    "#小车原地左转\n",
    "def spin_left(delaytime):\n",
    "    GPIO.output(IN1, GPIO.LOW)\n",
    "    GPIO.output(IN2, GPIO.HIGH)\n",
    "    GPIO.output(IN3, GPIO.HIGH)\n",
    "    GPIO.output(IN4, GPIO.LOW)\n",
    "    pwm_ENA.ChangeDutyCycle(80)\n",
    "    pwm_ENB.ChangeDutyCycle(80)\n",
    "    time.sleep(delaytime)\n",
    "\n",
    "#小车原地右转\n",
    "def spin_right(delaytime):\n",
    "    GPIO.output(IN1, GPIO.HIGH)\n",
    "    GPIO.output(IN2, GPIO.LOW)\n",
    "    GPIO.output(IN3, GPIO.LOW)\n",
    "    GPIO.output(IN4, GPIO.HIGH)\n",
    "    pwm_ENA.ChangeDutyCycle(80)\n",
    "    pwm_ENB.ChangeDutyCycle(80)\n",
    "    time.sleep(delaytime)\n",
    "\n",
    "#小车停止\t\n",
    "def brake(delaytime):\n",
    "    GPIO.output(IN1, GPIO.LOW)\n",
    "    GPIO.output(IN2, GPIO.LOW)\n",
    "    GPIO.output(IN3, GPIO.LOW)\n",
    "    GPIO.output(IN4, GPIO.LOW)\n",
    "    pwm_ENA.ChangeDutyCycle(80)\n",
    "    pwm_ENB.ChangeDutyCycle(80)\n",
    "    time.sleep(delaytime)"
   ]
  },
  {
   "cell_type": "markdown",
   "metadata": {},
   "source": [
    "# 定义识别运动函数\n"
   ]
  },
  {
   "cell_type": "code",
   "execution_count": 5,
   "metadata": {},
   "outputs": [],
   "source": [
    "def detect_control(info):\n",
    "    if info == \"forward\":\n",
    "        run(1) \n",
    "        brake(1)#前进1秒\n",
    "    elif info == \"back\":\n",
    "        back(1) \n",
    "        brake(1)#后退1秒\n",
    "    elif info == \"left\":\n",
    "        left(1) \n",
    "        brake(1)#左转1秒\n",
    "    elif info == \"right\":\n",
    "        right(1)\n",
    "        brake(1)#右转1秒\n",
    "    elif info == \"brake\":\n",
    "        brake(1)"
   ]
  },
  {
   "cell_type": "markdown",
   "metadata": {},
   "source": [
    "# 定义解析二维码接口"
   ]
  },
  {
   "cell_type": "code",
   "execution_count": 6,
   "metadata": {},
   "outputs": [],
   "source": [
    "def decodeDisplay(image):\n",
    "    barcodes = pyzbar.decode(image)\n",
    "    for barcode in barcodes:\n",
    "        # 提取二维码的边界框的位置\n",
    "        # 画出图像中条形码的边界框\n",
    "        (x, y, w, h) = barcode.rect\n",
    "        cv2.rectangle(image, (x, y), (x + w, y + h), (225, 225, 225), 2)\n",
    "\n",
    "        # 提取二维码数据为字节对象，所以如果我们想在输出图像上\n",
    "        # 画出来，就需要先将它转换成字符串\n",
    "        barcodeData = barcode.data.decode(\"utf-8\")\n",
    "        barcodeType = barcode.type\n",
    "\n",
    "        # 绘出图像上条形码的数据和条形码类型\n",
    "        text = \"{} ({})\".format(barcodeData, barcodeType)\n",
    "        cv2.putText(image, text, (x, y - 10), cv2.FONT_HERSHEY_SIMPLEX, 0.5, (225, 225, 225), 2)\n",
    "        \n",
    "        # 向终端打印条形码数据和条形码类型\n",
    "        print(\"[INFO] Found {} barcode: {}\".format(barcodeType, barcodeData))\n",
    "        detect_control(barcodeData)\n",
    "    return image\n",
    "\n",
    "def detect():\n",
    "    motor_init()\n",
    "    camera = cv2.VideoCapture(0)\n",
    "    camera.set(3, 320)\n",
    "    camera.set(4, 240)\n",
    "    camera.set(5, 120)  #设置帧率\n",
    "    # fourcc = cv2.VideoWriter_fourcc(*\"MPEG\")\n",
    "    camera.set(cv2.CAP_PROP_FOURCC, cv2.VideoWriter.fourcc('M', 'J', 'P', 'G'))\n",
    "    camera.set(cv2.CAP_PROP_BRIGHTNESS, 40) #设置亮度 -64 - 64  0.0\n",
    "    camera.set(cv2.CAP_PROP_CONTRAST, 50) #设置对比度 -64 - 64  2.0\n",
    "    camera.set(cv2.CAP_PROP_EXPOSURE, 156) #设置曝光值 1.0 - 5000  156.0\n",
    "    ret, frame = camera.read()\n",
    "    image_widget.value = bgr8_to_jpeg(frame)\n",
    "    while True:\n",
    "        # 读取当前帧\n",
    "        ret, frame = camera.read()\n",
    "        # 转为灰度图像\n",
    "        gray = cv2.cvtColor(frame, cv2.COLOR_BGR2GRAY)\n",
    "        im = decodeDisplay(gray)\n",
    "        cv2.waitKey(5)\n",
    "        image_widget.value = bgr8_to_jpeg(im)\n",
    "        # 如果按键q则跳出本次循环\n",
    "        \n",
    "        if cv2.waitKey(10) & 0xFF == ord('q'):\n",
    "            break\n",
    "    camera.release()\n",
    "    cv2.destroyAllWindows()"
   ]
  },
  {
   "cell_type": "code",
   "execution_count": null,
   "metadata": {},
   "outputs": [
    {
     "name": "stdout",
     "output_type": "stream",
     "text": [
      "[INFO] Found QRCODE barcode: right\n",
      "[INFO] Found QRCODE barcode: right\n",
      "[INFO] Found QRCODE barcode: right\n",
      "[INFO] Found QRCODE barcode: right\n",
      "[INFO] Found QRCODE barcode: right\n",
      "[INFO] Found QRCODE barcode: right\n",
      "[INFO] Found QRCODE barcode: right\n",
      "[INFO] Found QRCODE barcode: right\n",
      "[INFO] Found QRCODE barcode: right\n",
      "[INFO] Found QRCODE barcode: right\n",
      "[INFO] Found QRCODE barcode: right\n",
      "[INFO] Found QRCODE barcode: right\n",
      "[INFO] Found QRCODE barcode: right\n",
      "[INFO] Found QRCODE barcode: right\n",
      "[INFO] Found QRCODE barcode: right\n",
      "[INFO] Found QRCODE barcode: forward\n",
      "[INFO] Found QRCODE barcode: forward\n"
     ]
    }
   ],
   "source": [
    "detect()"
   ]
  },
  {
   "cell_type": "code",
   "execution_count": null,
   "metadata": {},
   "outputs": [],
   "source": []
  }
 ],
 "metadata": {
  "kernelspec": {
   "display_name": "Python 3",
   "language": "python",
   "name": "python3"
  },
  "language_info": {
   "codemirror_mode": {
    "name": "ipython",
    "version": 3
   },
   "file_extension": ".py",
   "mimetype": "text/x-python",
   "name": "python",
   "nbconvert_exporter": "python",
   "pygments_lexer": "ipython3",
   "version": "3.7.3"
  }
 },
 "nbformat": 4,
 "nbformat_minor": 4
}
