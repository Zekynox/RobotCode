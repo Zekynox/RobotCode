{
 "cells": [
  {
   "cell_type": "markdown",
   "metadata": {},
   "source": [
    "<center><img src=\"../logo.png\" alt=\"Header\" style=\"width: 800px;\"/></center>"
   ]
  },
  {
   "cell_type": "markdown",
   "metadata": {},
   "source": [
    "\n",
    "@Copyright (C): 2010-2020, Shenzhen Yahboom Tech  \n",
    "@Author: Liusen  \n",
    "@Date: 2020-02-04 17:20:02  \n",
    "@LastEditors: Liusen  \n",
    "@LastEditTime: 2020-02-05 18:50:02   "
   ]
  },
  {
   "cell_type": "code",
   "execution_count": 1,
   "metadata": {},
   "outputs": [],
   "source": [
    "import RPi.GPIO as GPIO\n",
    "import time"
   ]
  },
  {
   "cell_type": "code",
   "execution_count": 2,
   "metadata": {},
   "outputs": [],
   "source": [
    "#bgr8转jpeg格式\n",
    "import enum\n",
    "import cv2\n",
    "\n",
    "def bgr8_to_jpeg(value, quality=75):\n",
    "    return bytes(cv2.imencode('.jpg', value)[1])"
   ]
  },
  {
   "cell_type": "code",
   "execution_count": 3,
   "metadata": {},
   "outputs": [
    {
     "data": {
      "application/vnd.jupyter.widget-view+json": {
       "model_id": "06b5aa608c714c4685de0c3951b44a4a",
       "version_major": 2,
       "version_minor": 0
      },
      "text/plain": [
       "Image(value=b'', format='jpeg', height='300', width='300')"
      ]
     },
     "metadata": {},
     "output_type": "display_data"
    }
   ],
   "source": [
    "#显示摄像头组件\n",
    "import cv2\n",
    "import traitlets\n",
    "import ipywidgets.widgets as widgets\n",
    "from IPython.display import display\n",
    "import time\n",
    "# 线程功能操作库\n",
    "import threading\n",
    "import inspect\n",
    "import ctypes\n",
    "\n",
    "image_widget = widgets.Image(format='jpeg', width=300, height=300)\n",
    "display(image_widget)"
   ]
  },
  {
   "cell_type": "code",
   "execution_count": 4,
   "metadata": {},
   "outputs": [],
   "source": [
    "# #舵机引脚定义\n",
    "ServoPin = 11  #S2\n",
    "ServoPinB = 9  #S3\n",
    "#设置GPIO口为BCM编码方式\n",
    "GPIO.setmode(GPIO.BCM)"
   ]
  },
  {
   "cell_type": "code",
   "execution_count": 5,
   "metadata": {},
   "outputs": [],
   "source": [
    " #舵机引脚设置为输出模式\n",
    "def init():\n",
    "    GPIO.setup(ServoPin, GPIO.OUT)\n",
    "    GPIO.setup(ServoPinB, GPIO.OUT)"
   ]
  },
  {
   "cell_type": "code",
   "execution_count": 6,
   "metadata": {},
   "outputs": [],
   "source": [
    "#定义一个脉冲函数，用来模拟方式产生pwm值\n",
    "#时基脉冲为20ms，该脉冲高电平部分在0.5-2.5ms控制0-180度\n",
    "def servo_pulse(myangleA, myangleB):\n",
    "    pulsewidth = myangleA\n",
    "    GPIO.output(ServoPin, GPIO.HIGH)\n",
    "    time.sleep(pulsewidth/1000000.0)\n",
    "    GPIO.output(ServoPin, GPIO.LOW)\n",
    "    time.sleep(20.0/1000-pulsewidth/1000000.0)\n",
    "    \n",
    "    pulsewidthB = myangleB\n",
    "    GPIO.output(ServoPinB, GPIO.HIGH)\n",
    "    time.sleep(pulsewidthB/1000000.0)\n",
    "    GPIO.output(ServoPinB, GPIO.LOW)\n",
    "    time.sleep(20.0/1000-pulsewidthB/1000000.0)"
   ]
  },
  {
   "cell_type": "code",
   "execution_count": 7,
   "metadata": {},
   "outputs": [],
   "source": [
    "#根据舵机脉冲控制范围为500-2500usec内：\n",
    "def Servo_control(angle_1, angle_2):\n",
    "    init()\n",
    "    if angle_1 < 500:\n",
    "        angle_1 = 500\n",
    "    elif angle_1 > 2500:\n",
    "        angle_1 = 2500\n",
    "        \n",
    "    if angle_2 < 500:\n",
    "        angle_2 = 500\n",
    "    elif angle_2 > 2500:\n",
    "        angle_2 = 2500\n",
    "    servo_pulse(angle_1, angle_2)"
   ]
  },
  {
   "cell_type": "markdown",
   "metadata": {},
   "source": [
    "##  线程关闭函数"
   ]
  },
  {
   "cell_type": "code",
   "execution_count": 8,
   "metadata": {},
   "outputs": [],
   "source": [
    "def _async_raise(tid, exctype):\n",
    "    \"\"\"raises the exception, performs cleanup if needed\"\"\"\n",
    "    tid = ctypes.c_long(tid)\n",
    "    if not inspect.isclass(exctype):\n",
    "        exctype = type(exctype)\n",
    "    res = ctypes.pythonapi.PyThreadState_SetAsyncExc(tid, ctypes.py_object(exctype))\n",
    "    if res == 0:\n",
    "        raise ValueError(\"invalid thread id\")\n",
    "    elif res != 1:\n",
    "        # \"\"\"if it returns a number greater than one, you're in trouble,\n",
    "        # and you should call it again with exc=NULL to revert the effect\"\"\"\n",
    "        ctypes.pythonapi.PyThreadState_SetAsyncExc(tid, None)\n",
    "        \n",
    "def stop_thread(thread):\n",
    "    _async_raise(thread.ident, SystemExit)"
   ]
  },
  {
   "cell_type": "code",
   "execution_count": 9,
   "metadata": {},
   "outputs": [],
   "source": [
    "image = cv2.VideoCapture(0)\n",
    "image.set(3, 640)\n",
    "image.set(4, 480)\n",
    "image.set(5, 120)   #设置帧率\n",
    "# fourcc = cv2.VideoWriter_fourcc(*\"MPEG\")\n",
    "image.set(cv2.CAP_PROP_FOURCC, cv2.VideoWriter.fourcc('M', 'J', 'P', 'G'))\n",
    "image.set(cv2.CAP_PROP_BRIGHTNESS, 20) #设置亮度 -64 - 64  0.0\n",
    "image.set(cv2.CAP_PROP_CONTRAST, 20)   #设置对比度 -64 - 64  2.0\n",
    "ret, frame = image.read()\n",
    "image_widget.value = bgr8_to_jpeg(frame)"
   ]
  },
  {
   "cell_type": "markdown",
   "metadata": {},
   "source": [
    "## 创建相关控制变量  "
   ]
  },
  {
   "cell_type": "code",
   "execution_count": 10,
   "metadata": {},
   "outputs": [],
   "source": [
    "global color_x, color_y, color_radius\n",
    "color_x = color_y = color_radius = 0\n",
    "global target_valuex\n",
    "target_valuex = 1500\n",
    "global target_valuey\n",
    "target_valuey = 1500\n",
    "global g_mode\n",
    "g_mode = 0"
   ]
  },
  {
   "cell_type": "markdown",
   "metadata": {},
   "source": [
    "## 创建存储HSV色域颜色分类数据的数组"
   ]
  },
  {
   "cell_type": "code",
   "execution_count": 11,
   "metadata": {},
   "outputs": [],
   "source": [
    "import numpy as np\n",
    "global color_lower\n",
    "color_lower = np.array([156, 43, 46])\n",
    "global color_upperv\n",
    "color_upper = np.array([180, 255, 255])"
   ]
  },
  {
   "cell_type": "markdown",
   "metadata": {},
   "source": [
    "## 创建PID控制实例"
   ]
  },
  {
   "cell_type": "code",
   "execution_count": 12,
   "metadata": {},
   "outputs": [],
   "source": [
    "import PID\n",
    "xservo_pid = PID.PositionalPID(0.8, 0.1, 0.3)\n",
    "yservo_pid = PID.PositionalPID(0.4, 0.1, 0.2)"
   ]
  },
  {
   "cell_type": "markdown",
   "metadata": {},
   "source": [
    "## 颜色选择按钮配置"
   ]
  },
  {
   "cell_type": "code",
   "execution_count": 13,
   "metadata": {},
   "outputs": [
    {
     "data": {
      "application/vnd.jupyter.widget-view+json": {
       "model_id": "46a10b09e34b42eebb7fb41842856ef8",
       "version_major": 2,
       "version_minor": 0
      },
      "text/plain": [
       "Button(description='红色', icon='uncheck', style=ButtonStyle(), tooltip='Description')"
      ]
     },
     "metadata": {},
     "output_type": "display_data"
    },
    {
     "data": {
      "application/vnd.jupyter.widget-view+json": {
       "model_id": "64c3ca71a6794ed18af091d880137dca",
       "version_major": 2,
       "version_minor": 0
      },
      "text/plain": [
       "Button(description='绿色', icon='uncheck', style=ButtonStyle(), tooltip='Description')"
      ]
     },
     "metadata": {},
     "output_type": "display_data"
    },
    {
     "data": {
      "application/vnd.jupyter.widget-view+json": {
       "model_id": "1b1586cf67eb41a3841fffe2e5f870ee",
       "version_major": 2,
       "version_minor": 0
      },
      "text/plain": [
       "Button(description='蓝色', icon='uncheck', style=ButtonStyle(), tooltip='Description')"
      ]
     },
     "metadata": {},
     "output_type": "display_data"
    },
    {
     "data": {
      "application/vnd.jupyter.widget-view+json": {
       "model_id": "3d534a7abded430081bba3e6f81d7c7c",
       "version_major": 2,
       "version_minor": 0
      },
      "text/plain": [
       "Button(description='黄色', icon='uncheck', style=ButtonStyle(), tooltip='Description')"
      ]
     },
     "metadata": {},
     "output_type": "display_data"
    },
    {
     "data": {
      "application/vnd.jupyter.widget-view+json": {
       "model_id": "6352c44166f6453c9da37efedc127df3",
       "version_major": 2,
       "version_minor": 0
      },
      "text/plain": [
       "Button(description='橙色', icon='uncheck', style=ButtonStyle(), tooltip='Description')"
      ]
     },
     "metadata": {},
     "output_type": "display_data"
    },
    {
     "data": {
      "application/vnd.jupyter.widget-view+json": {
       "model_id": "6e9ad56290044e5ebc8e5dc8577a5401",
       "version_major": 2,
       "version_minor": 0
      },
      "text/plain": [
       "Button(description='关闭', icon='uncheck', style=ButtonStyle(), tooltip='Description')"
      ]
     },
     "metadata": {},
     "output_type": "display_data"
    },
    {
     "data": {
      "application/vnd.jupyter.widget-view+json": {
       "model_id": "c951e81eac0a4ed9a706ff9014686f5d",
       "version_major": 2,
       "version_minor": 0
      },
      "text/plain": [
       "Output()"
      ]
     },
     "metadata": {},
     "output_type": "display_data"
    }
   ],
   "source": [
    "Redbutton = widgets.Button(     \n",
    "    value=False,     \n",
    "    description='红色',     \n",
    "    disabled=False,     \n",
    "    button_style='', # 'success', 'info', 'warning', 'danger' or ''     \n",
    "    tooltip='Description',     \n",
    "    icon='uncheck' )\n",
    "Greenbutton = widgets.Button(     \n",
    "    value=False,     \n",
    "    description='绿色',     \n",
    "    disabled=False,     \n",
    "    button_style='', # 'success', 'info', 'warning', 'danger' or ''     \n",
    "    tooltip='Description',     \n",
    "    icon='uncheck' )\n",
    "Bluebutton = widgets.Button(     \n",
    "    value=False,     \n",
    "    description='蓝色',     \n",
    "    disabled=False,     \n",
    "    button_style='', # 'success', 'info', 'warning', 'danger' or ''     \n",
    "    tooltip='Description',     \n",
    "    icon='uncheck' )\n",
    "Yellowbutton = widgets.Button(     \n",
    "    value=False,     \n",
    "    description='黄色',     \n",
    "    disabled=False,     \n",
    "    button_style='', # 'success', 'info', 'warning', 'danger' or ''     \n",
    "    tooltip='Description',     \n",
    "    icon='uncheck' )\n",
    "Orangebutton = widgets.Button(     \n",
    "    value=False,     \n",
    "    description='橙色',     \n",
    "    disabled=False,     \n",
    "    button_style='', # 'success', 'info', 'warning', 'danger' or ''     \n",
    "    tooltip='Description',     \n",
    "    icon='uncheck' )\n",
    "Closebutton = widgets.Button(     \n",
    "    value=False,     \n",
    "    description='关闭',     \n",
    "    disabled=False,     \n",
    "    button_style='', # 'success', 'info', 'warning', 'danger' or ''     \n",
    "    tooltip='Description',     \n",
    "    icon='uncheck' )\n",
    "output = widgets.Output()\n",
    "display(Redbutton, Greenbutton, Bluebutton, Yellowbutton, Orangebutton, Closebutton, output)\n",
    "\n",
    "def ALL_Uncheck():\n",
    "    Redbutton.icon = 'uncheck'\n",
    "    Greenbutton.icon = 'uncheck'\n",
    "    Bluebutton.icon = 'uncheck'\n",
    "    Yellowbutton.icon = 'uncheck'\n",
    "    Orangebutton.icon = 'uncheck'\n",
    "    \n",
    "def on_Redbutton_clicked(b):\n",
    "    global color_lower, color_upper, g_mode \n",
    "    global target_valuex, target_valuey\n",
    "    ALL_Uncheck()\n",
    "    b.icon = 'check'\n",
    "    color_lower = np.array([0, 43, 46])\n",
    "    color_upper = np.array([10, 255, 255])\n",
    "    target_valuex = target_valuey = 2048\n",
    "    Servo_control(1500, 1500)\n",
    "    g_mode = 1\n",
    "    with output:\n",
    "        print(\"RedButton clicked.\")\n",
    "\n",
    "def on_Greenbutton_clicked(b):\n",
    "    global color_lower, color_upper, g_mode \n",
    "    global target_valuex, target_valuey\n",
    "    ALL_Uncheck()\n",
    "    b.icon = 'check'\n",
    "    color_lower = np.array([35, 43, 46])\n",
    "    color_upper = np.array([77, 255, 255])\n",
    "    target_valuex = target_valuey = 2048\n",
    "    Servo_control(1500, 1500)\n",
    "    g_mode = 1\n",
    "    with output:\n",
    "        print(\"GreenButton clicked.\")\n",
    "        \n",
    "def on_Bluebutton_clicked(b):\n",
    "    global color_lower, color_upper, g_mode \n",
    "    global target_valuex, target_valuey\n",
    "    ALL_Uncheck()\n",
    "    b.icon = 'check'\n",
    "    color_lower=np.array([100, 43, 46])\n",
    "    color_upper = np.array([124, 255, 255])\n",
    "    target_valuex = target_valuey = 2048\n",
    "    Servo_control(1500, 1500)\n",
    "    g_mode = 1\n",
    "    with output:\n",
    "        print(\"Bluebutton clicked.\")   \n",
    "\n",
    "def on_Yellowbutton_clicked(b):\n",
    "    global color_lower, color_upper, g_mode \n",
    "    global target_valuex, target_valuey\n",
    "    ALL_Uncheck()\n",
    "    b.icon = 'check'\n",
    "    color_lower = np.array([26, 43, 46])\n",
    "    color_upper = np.array([34, 255, 255])\n",
    "    target_valuex = target_valuey = 2048\n",
    "    Servo_control(1500, 1500)\n",
    "    g_mode = 1\n",
    "    with output:\n",
    "        print(\"Yellowbutton clicked.\")\n",
    "        \n",
    "def on_Orangebutton_clicked(b):\n",
    "    global color_lower, color_upper, g_mode \n",
    "    global target_valuex, target_valuey\n",
    "    ALL_Uncheck()\n",
    "    b.icon = 'check'\n",
    "    color_lower = np.array([11, 43, 46])\n",
    "    color_upper = np.array([25, 255, 255])\n",
    "    target_valuex = target_valuey = 2048\n",
    "    Servo_control(1500, 1500)\n",
    "    g_mode = 1\n",
    "    with output:\n",
    "        print(\"Orangebutton clicked.\")\n",
    "        \n",
    "def on_Closebutton_clicked(b):  \n",
    "    global g_mode \n",
    "    \n",
    "    ALL_Uncheck()\n",
    "    g_mode = 0\n",
    "    with output:\n",
    "        print(\"CloseButton clicked.\")\n",
    "\n",
    "Redbutton.on_click(on_Redbutton_clicked)\n",
    "Greenbutton.on_click(on_Greenbutton_clicked)\n",
    "Bluebutton.on_click(on_Bluebutton_clicked)\n",
    "Yellowbutton.on_click(on_Yellowbutton_clicked)\n",
    "Orangebutton.on_click(on_Orangebutton_clicked)\n",
    "Closebutton.on_click(on_Closebutton_clicked)"
   ]
  },
  {
   "cell_type": "markdown",
   "metadata": {},
   "source": []
  },
  {
   "cell_type": "markdown",
   "metadata": {},
   "source": [
    "##  云台运动主进程"
   ]
  },
  {
   "cell_type": "code",
   "execution_count": 14,
   "metadata": {},
   "outputs": [],
   "source": [
    "def Color_track():\n",
    "    global color_lower, color_upper, g_mode \n",
    "    global target_valuex, target_valuey\n",
    "    t_start = time.time()\n",
    "    fps = 0\n",
    "    times = 0\n",
    "    while True:\n",
    "        ret, frame = image.read()\n",
    "        frame = cv2.resize(frame, (300, 300))\n",
    "        frame_ = cv2.GaussianBlur(frame,(5,5),0)                    \n",
    "        hsv = cv2.cvtColor(frame,cv2.COLOR_BGR2HSV)\n",
    "        mask = cv2.inRange(hsv,color_lower,color_upper)  \n",
    "        mask = cv2.erode(mask,None,iterations=2)\n",
    "        mask = cv2.dilate(mask,None,iterations=2)\n",
    "        mask = cv2.GaussianBlur(mask,(3,3),0)     \n",
    "        cnts = cv2.findContours(mask.copy(),cv2.RETR_EXTERNAL,cv2.CHAIN_APPROX_SIMPLE)[-2] \n",
    "        if g_mode == 1: # 按钮切换开关\n",
    "            if len(cnts) > 0:\n",
    "                cnt = max (cnts, key = cv2.contourArea)\n",
    "                (color_x,color_y),color_radius = cv2.minEnclosingCircle(cnt)\n",
    "                if color_radius > 10:\n",
    "                    times =  times +  1\n",
    "                    # 将检测到的颜色标记出来\n",
    "                    cv2.circle(frame,(int(color_x),int(color_y)),int(color_radius),(255,0,255),2)  \n",
    "                    # Proportion-Integration-Differentiation\n",
    "                    xservo_pid.SystemOutput = color_x\n",
    "                    xservo_pid.SetStepSignal(150)\n",
    "                    xservo_pid.SetInertiaTime(0.01, 0.1)\n",
    "                    target_valuex = int(1500+xservo_pid.SystemOutput)\n",
    "                    # 输入Y轴方向参数PID控制输入\n",
    "                    yservo_pid.SystemOutput = color_y\n",
    "                    yservo_pid.SetStepSignal(150)\n",
    "                    yservo_pid.SetInertiaTime(0.01, 0.1)\n",
    "                    target_valuey = int(1500+yservo_pid.SystemOutput)\n",
    "                    # 将云台转动至PID调校位置\n",
    "                    time.sleep(0.008)\n",
    "                    if times == 5 :\n",
    "                        times = 0 \n",
    "                        Servo_control(target_valuex,target_valuey)\n",
    "        fps = fps + 1\n",
    "        mfps = fps / (time.time() - t_start)\n",
    "        cv2.putText(frame, \"FPS \" + str(int(mfps)), (40,40), cv2.FONT_HERSHEY_SIMPLEX, 0.8, (0,255,255), 3)\n",
    "        # 实时传回图像数据进行显示\n",
    "        image_widget.value = bgr8_to_jpeg(frame)"
   ]
  },
  {
   "cell_type": "markdown",
   "metadata": {},
   "source": [
    "##  启动进程"
   ]
  },
  {
   "cell_type": "code",
   "execution_count": 15,
   "metadata": {},
   "outputs": [],
   "source": [
    "thread1 = threading.Thread(target=Color_track)\n",
    "thread1.setDaemon(True)\n",
    "thread1.start()\n"
   ]
  },
  {
   "cell_type": "markdown",
   "metadata": {},
   "source": [
    "##  关闭进程"
   ]
  },
  {
   "cell_type": "code",
   "execution_count": 16,
   "metadata": {},
   "outputs": [],
   "source": [
    "stop_thread(thread1)"
   ]
  },
  {
   "cell_type": "code",
   "execution_count": null,
   "metadata": {},
   "outputs": [],
   "source": []
  }
 ],
 "metadata": {
  "kernelspec": {
   "display_name": "Python 3",
   "language": "python",
   "name": "python3"
  },
  "language_info": {
   "codemirror_mode": {
    "name": "ipython",
    "version": 3
   },
   "file_extension": ".py",
   "mimetype": "text/x-python",
   "name": "python",
   "nbconvert_exporter": "python",
   "pygments_lexer": "ipython3",
   "version": "3.7.3"
  }
 },
 "nbformat": 4,
 "nbformat_minor": 4
}
