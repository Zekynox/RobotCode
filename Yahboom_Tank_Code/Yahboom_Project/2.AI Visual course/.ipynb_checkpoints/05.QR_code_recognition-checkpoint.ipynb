{
 "cells": [
  {
   "cell_type": "markdown",
   "metadata": {},
   "source": [
    "<center><img src=\"../logo.png\" alt=\"Header\" style=\"width: 800px;\"/></center>"
   ]
  },
  {
   "cell_type": "markdown",
   "metadata": {},
   "source": [
    "\n",
    "@Copyright (C): 2010-2020, Shenzhen Yahboom Tech  \n",
    "@Author: Liusen  \n",
    "@Date: 2020-02-09 14:00:02  \n",
    "@LastEditors: Liusen  \n",
    "@LastEditTime: 2020-02-09 14:00:02     "
   ]
  },
  {
   "cell_type": "code",
   "execution_count": null,
   "metadata": {},
   "outputs": [],
   "source": [
    "#bgr8 to jpeg format\n",
    "import enum\n",
    "import cv2\n",
    "\n",
    "def bgr8_to_jpeg(value, quality=75):\n",
    "    return bytes(cv2.imencode('.jpg', value)[1])"
   ]
  },
  {
   "cell_type": "markdown",
   "metadata": {},
   "source": [
    "# Import library and show camera display component"
   ]
  },
  {
   "cell_type": "code",
   "execution_count": null,
   "metadata": {},
   "outputs": [],
   "source": [
    "# import the necessary packages\n",
    "#import simple_barcode_detection\n",
    "import cv2\n",
    "import numpy as np\n",
    "import pyzbar.pyzbar as pyzbar\n",
    "from PIL import Image\n",
    "import ipywidgets.widgets as widgets\n",
    "\n",
    "image_widget = widgets.Image(format='jpeg', width=320, height=240)\n",
    "display(image_widget)              # Display camera component"
   ]
  },
  {
   "cell_type": "markdown",
   "metadata": {},
   "source": [
    "# Define the parse QR code interface"
   ]
  },
  {
   "cell_type": "code",
   "execution_count": null,
   "metadata": {},
   "outputs": [],
   "source": [
    "def decodeDisplay(image):\n",
    "    barcodes = pyzbar.decode(image)\n",
    "    for barcode in barcodes:\n",
    "        # Extract the position of the bounding box of the QR code\n",
    "        # Draw the bounding box of the barcode in the image\n",
    "        (x, y, w, h) = barcode.rect\n",
    "        cv2.rectangle(image, (x, y), (x + w, y + h), (225, 225, 225), 2)\n",
    "\n",
    "        # Extract the QR code data as a byte object, so if we want to output the image, you need to convert it to a string \n",
    "        barcodeData = barcode.data.decode(\"utf-8\")\n",
    "        barcodeType = barcode.type\n",
    "\n",
    "        # Draws the data and barcode type of the barcode on the image\n",
    "        text = \"{} ({})\".format(barcodeData, barcodeType)\n",
    "        cv2.putText(image, text, (x, y - 10), cv2.FONT_HERSHEY_SIMPLEX,0.5, (225, 225, 225), 2)\n",
    "\n",
    "        # Print the data and barcode type of the barcode on the terminal\n",
    "        print(\"[INFO] Found {} barcode: {}\".format(barcodeType, barcodeData))\n",
    "    return image\n",
    "\n",
    "def detect():\n",
    "    camera = cv2.VideoCapture(0)\n",
    "    camera.set(3, 320)\n",
    "    camera.set(4, 240)\n",
    "    camera.set(5, 120)  #Set frame rate\n",
    "    # fourcc = cv2.VideoWriter_fourcc(*\"MPEG\")\n",
    "    camera.set(cv2.CAP_PROP_FOURCC, cv2.VideoWriter.fourcc('M', 'J', 'P', 'G'))\n",
    "    #camera.set(cv2.CAP_PROP_BRIGHTNESS, 40) #-64 - 64  0.0\n",
    "    #camera.set(cv2.CAP_PROP_CONTRAST, 50) # -64 - 64  2.0\n",
    "    #camera.set(cv2.CAP_PROP_EXPOSURE, 156) # 1.0 - 5000  156.0\n",
    "    ret, frame = camera.read()\n",
    "    image_widget.value = bgr8_to_jpeg(frame)\n",
    "    while True:\n",
    "        # Read frame currently\n",
    "        ret, frame = camera.read()\n",
    "        # To Grayscale image\n",
    "        gray = cv2.cvtColor(frame, cv2.COLOR_BGR2GRAY)\n",
    "        im = decodeDisplay(gray)\n",
    "\n",
    "        cv2.waitKey(5)\n",
    "        image_widget.value = bgr8_to_jpeg(im)\n",
    "        #  If you press q, you will be out of the loop\n",
    "        if cv2.waitKey(10) & 0xFF == ord('q'):\n",
    "            break\n",
    "    camera.release()\n",
    "    cv2.destroyAllWindows()"
   ]
  },
  {
   "cell_type": "code",
   "execution_count": null,
   "metadata": {},
   "outputs": [],
   "source": [
    "# Main process"
   ]
  },
  {
   "cell_type": "code",
   "execution_count": null,
   "metadata": {},
   "outputs": [],
   "source": [
    "while 1:\n",
    "    detect()"
   ]
  },
  {
   "cell_type": "code",
   "execution_count": null,
   "metadata": {},
   "outputs": [],
   "source": []
  }
 ],
 "metadata": {
  "kernelspec": {
   "display_name": "Python 3",
   "language": "python",
   "name": "python3"
  },
  "language_info": {
   "codemirror_mode": {
    "name": "ipython",
    "version": 3
   },
   "file_extension": ".py",
   "mimetype": "text/x-python",
   "name": "python",
   "nbconvert_exporter": "python",
   "pygments_lexer": "ipython3",
   "version": "3.7.3"
  }
 },
 "nbformat": 4,
 "nbformat_minor": 4
}
