{
 "cells": [
  {
   "cell_type": "markdown",
   "metadata": {},
   "source": [
    "<center><img src=\"../logo.png\" alt=\"Header\" style=\"width: 800px;\"/></center>"
   ]
  },
  {
   "cell_type": "markdown",
   "metadata": {},
   "source": [
    "\n",
    "@Copyright (C): 2010-2020, Shenzhen Yahboom Tech  \n",
    "@Author: Liusen  \n",
    "@Date: 2020-02-04 17:20:02  \n",
    "@LastEditors: Liusen  \n",
    "@LastEditTime: 2020-02-05 18:50:02   "
   ]
  },
  {
   "cell_type": "code",
   "execution_count": 1,
   "metadata": {},
   "outputs": [],
   "source": [
    "#bgr8转jpeg格式\n",
    "import enum\n",
    "import cv2\n",
    "\n",
    "def bgr8_to_jpeg(value, quality=75):\n",
    "    return bytes(cv2.imencode('.jpg', value)[1])"
   ]
  },
  {
   "cell_type": "code",
   "execution_count": 2,
   "metadata": {},
   "outputs": [
    {
     "data": {
      "application/vnd.jupyter.widget-view+json": {
       "model_id": "b02e63fa49704a2cb475d856f6be451a",
       "version_major": 2,
       "version_minor": 0
      },
      "text/plain": [
       "HBox(children=(Image(value=b'', format='jpeg', height='240', width='320'), Image(value=b'', format='jpeg', hei…"
      ]
     },
     "metadata": {},
     "output_type": "display_data"
    }
   ],
   "source": [
    "#摄像头组件显示\n",
    "import traitlets\n",
    "import ipywidgets.widgets as widgets\n",
    "import time\n",
    "# 线程功能操作库\n",
    "import threading\n",
    "import inspect\n",
    "import ctypes\n",
    "\n",
    "origin_widget = widgets.Image(format='jpeg', width=320, height=240)\n",
    "mask_widget = widgets.Image(format='jpeg',width=320, height=240)\n",
    "result_widget = widgets.Image(format='jpeg',width=320, height=240)\n",
    "\n",
    "# create a horizontal box container to place the image widget next to eachother\n",
    "image_container = widgets.HBox([origin_widget, mask_widget, result_widget])\n",
    "\n",
    "display(image_container)"
   ]
  },
  {
   "cell_type": "code",
   "execution_count": 3,
   "metadata": {},
   "outputs": [],
   "source": [
    "#线程相关函数\n",
    "def _async_raise(tid, exctype):\n",
    "    \"\"\"raises the exception, performs cleanup if needed\"\"\"\n",
    "    tid = ctypes.c_long(tid)\n",
    "    if not inspect.isclass(exctype):\n",
    "        exctype = type(exctype)\n",
    "    res = ctypes.pythonapi.PyThreadState_SetAsyncExc(tid, ctypes.py_object(exctype))\n",
    "    if res == 0:\n",
    "        raise ValueError(\"invalid thread id\")\n",
    "    elif res != 1:\n",
    "        # \"\"\"if it returns a number greater than one, you're in trouble,\n",
    "        # and you should call it again with exc=NULL to revert the effect\"\"\"\n",
    "        ctypes.pythonapi.PyThreadState_SetAsyncExc(tid, None)\n",
    "        \n",
    "def stop_thread(thread):\n",
    "    _async_raise(thread.ident, SystemExit)"
   ]
  },
  {
   "cell_type": "code",
   "execution_count": null,
   "metadata": {},
   "outputs": [],
   "source": []
  },
  {
   "cell_type": "markdown",
   "metadata": {},
   "source": [
    "# 主进程"
   ]
  },
  {
   "cell_type": "code",
   "execution_count": 4,
   "metadata": {},
   "outputs": [],
   "source": [
    "import cv2\n",
    "import numpy as np\n",
    "import ipywidgets.widgets as widgets\n",
    "\n",
    "\n",
    "cap = cv2.VideoCapture(0)\n",
    "cap.set(3, 640)\n",
    "cap.set(4, 480)\n",
    "cap.set(5, 120)  #设置帧率\n",
    "cap.set(cv2.CAP_PROP_FOURCC, cv2.VideoWriter.fourcc('M', 'J', 'P', 'G'))\n",
    "# image.set(cv2.CAP_PROP_BRIGHTNESS, 40) #设置亮度 -64 - 64  0.0\n",
    "# image.set(cv2.CAP_PROP_CONTRAST, 50)   #设置对比度 -64 - 64  2.0\n",
    "# image.set(cv2.CAP_PROP_EXPOSURE, 156)  #设置曝光值 1.0 - 5000  156.0\n",
    "\n",
    "\n",
    "# 默认选择红色的，想识别其他请注释下面红色区间代码，放开后面其他区间代码段\n",
    "# 红色区间\n",
    "color_lower = np.array([0, 43, 46])\n",
    "color_upper = np.array([10, 255, 255])\n",
    "\n",
    "# #绿色区间\n",
    "# color_lower = np.array([35, 43, 46])\n",
    "# color_upper = np.array([77, 255, 255])\n",
    "\n",
    "# #蓝色区间\n",
    "# color_lower=np.array([100, 43, 46])\n",
    "# color_upper = np.array([124, 255, 255])\n",
    "\n",
    "# #黄色区间\n",
    "# color_lower = np.array([26, 43, 46])\n",
    "# color_upper = np.array([34, 255, 255])\n",
    "\n",
    "# #橙色区间\n",
    "# color_lower = np.array([11, 43, 46])\n",
    "# color_upper = np.array([25, 255, 255])\n",
    "\n",
    "\n",
    "def Color_Recongnize():\n",
    "    \n",
    "    while(1):\n",
    "        # get a frame and show 获取视频帧并转成HSV格式, 利用cvtColor()将BGR格式转成HSV格式，参数为cv2.COLOR_BGR2HSV。\n",
    "        ret, frame = cap.read()\n",
    "        #cv2.imshow('Capture', frame)\n",
    "        origin_widget.value = bgr8_to_jpeg(frame)\n",
    "\n",
    "        # change to hsv model\n",
    "        hsv = cv2.cvtColor(frame, cv2.COLOR_BGR2HSV)\n",
    "\n",
    "        # get mask 利用inRange()函数和HSV模型中蓝色范围的上下界获取mask，mask中原视频中的蓝色部分会被弄成白色，其他部分黑色。\n",
    "        mask = cv2.inRange(hsv, color_lower, color_upper)\n",
    "        #cv2.imshow('Mask', mask)\n",
    "        mask_widget.value = bgr8_to_jpeg(mask)\n",
    "\n",
    "        # detect blue 将mask于原视频帧进行按位与操作，则会把mask中的白色用真实的图像替换：\n",
    "        res = cv2.bitwise_and(frame, frame, mask=mask)\n",
    "        #cv2.imshow('Result', res)\n",
    "        result_widget.value = bgr8_to_jpeg(res)\n",
    "\n",
    "        #     if cv2.waitKey(1) & 0xFF == ord('q'):\n",
    "        #         break\n",
    "        time.sleep(0.01)\n",
    "\n",
    "\n",
    "    cap.release()\n",
    "    #cv2.destroyAllWindows()"
   ]
  },
  {
   "cell_type": "code",
   "execution_count": 5,
   "metadata": {},
   "outputs": [],
   "source": [
    "#启动进程\n",
    "thread1 = threading.Thread(target=Color_Recongnize)\n",
    "thread1.setDaemon(True)\n",
    "thread1.start()"
   ]
  },
  {
   "cell_type": "code",
   "execution_count": 6,
   "metadata": {},
   "outputs": [],
   "source": [
    "#结束进程，只有在结束时才需要执行此段代码\n",
    "stop_thread(thread1)"
   ]
  },
  {
   "cell_type": "code",
   "execution_count": null,
   "metadata": {},
   "outputs": [],
   "source": []
  }
 ],
 "metadata": {
  "kernelspec": {
   "display_name": "Python 3",
   "language": "python",
   "name": "python3"
  },
  "language_info": {
   "codemirror_mode": {
    "name": "ipython",
    "version": 3
   },
   "file_extension": ".py",
   "mimetype": "text/x-python",
   "name": "python",
   "nbconvert_exporter": "python",
   "pygments_lexer": "ipython3",
   "version": "3.7.3"
  }
 },
 "nbformat": 4,
 "nbformat_minor": 4
}
