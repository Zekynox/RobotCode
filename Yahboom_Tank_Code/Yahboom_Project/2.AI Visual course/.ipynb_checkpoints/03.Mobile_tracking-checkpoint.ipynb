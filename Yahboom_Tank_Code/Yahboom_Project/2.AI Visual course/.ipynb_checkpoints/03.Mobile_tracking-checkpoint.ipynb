{
 "cells": [
  {
   "cell_type": "markdown",
   "metadata": {},
   "source": [
    "<center><img src=\"../logo.png\" alt=\"Header\" style=\"width: 800px;\"/></center>"
   ]
  },
  {
   "cell_type": "markdown",
   "metadata": {},
   "source": [
    "\n",
    "@Copyright (C): 2010-2020, Shenzhen Yahboom Tech  \n",
    "@Author: Liusen  \n",
    "@Date: 2020-02-04 17:20:02  \n",
    "@LastEditors: Liusen  \n",
    "@LastEditTime: 2020-02-05 18:50:02   "
   ]
  },
  {
   "cell_type": "code",
   "execution_count": null,
   "metadata": {},
   "outputs": [],
   "source": [
    "import RPi.GPIO as GPIO\n",
    "import time"
   ]
  },
  {
   "cell_type": "code",
   "execution_count": null,
   "metadata": {},
   "outputs": [],
   "source": [
    "#bgr8 to jpeg format\n",
    "import enum\n",
    "import cv2\n",
    "\n",
    "def bgr8_to_jpeg(value, quality=75):\n",
    "    return bytes(cv2.imencode('.jpg', value)[1])"
   ]
  },
  {
   "cell_type": "code",
   "execution_count": null,
   "metadata": {},
   "outputs": [],
   "source": [
    "#display camera\n",
    "import cv2\n",
    "import traitlets\n",
    "import ipywidgets.widgets as widgets\n",
    "from IPython.display import display\n",
    "import time\n",
    "# threading function library\n",
    "import threading\n",
    "import inspect\n",
    "import ctypes\n",
    "\n",
    "image_widget = widgets.Image(format='jpeg', width=300, height=300)\n",
    "display(image_widget)"
   ]
  },
  {
   "cell_type": "code",
   "execution_count": null,
   "metadata": {},
   "outputs": [],
   "source": [
    "# define servo pin\n",
    "ServoPin = 11  #S2\n",
    "ServoPinB = 9  #S3\n",
    "#set GPIO tpo BCM coding\n",
    "GPIO.setmode(GPIO.BCM)"
   ]
  },
  {
   "cell_type": "code",
   "execution_count": null,
   "metadata": {},
   "outputs": [],
   "source": [
    " #set servo to Output mode\n",
    "def init():\n",
    "    GPIO.setup(ServoPin, GPIO.OUT)\n",
    "    GPIO.setup(ServoPinB, GPIO.OUT)"
   ]
  },
  {
   "cell_type": "code",
   "execution_count": null,
   "metadata": {},
   "outputs": [],
   "source": [
    "#Define a pulse function, used to simulate the pwm value\n",
    "#When base pulse is 20ms, the high level part of the pulse is controlled from 0 to 180 degrees in 0.5-2.5ms\n",
    "def servo_pulse(myangleA, myangleB):\n",
    "    pulsewidth = myangleA\n",
    "    GPIO.output(ServoPin, GPIO.HIGH)\n",
    "    time.sleep(pulsewidth/1000000.0)\n",
    "    GPIO.output(ServoPin, GPIO.LOW)\n",
    "    time.sleep(20.0/1000-pulsewidth/1000000.0)\n",
    "    \n",
    "    pulsewidthB = myangleB\n",
    "    GPIO.output(ServoPinB, GPIO.HIGH)\n",
    "    time.sleep(pulsewidthB/1000000.0)\n",
    "    GPIO.output(ServoPinB, GPIO.LOW)\n",
    "    time.sleep(20.0/1000-pulsewidthB/1000000.0)"
   ]
  },
  {
   "cell_type": "code",
   "execution_count": null,
   "metadata": {},
   "outputs": [],
   "source": [
    "#Control servo angle\n",
    "def Servo_control(angle_1, angle_2):\n",
    "    init()\n",
    "    if angle_1 < 500:\n",
    "        angle_1 = 500\n",
    "    elif angle_1 > 2500:\n",
    "        angle_1 = 2500\n",
    "        \n",
    "    if angle_2 < 500:\n",
    "        angle_2 = 500\n",
    "    elif angle_2 > 2500:\n",
    "        angle_2 = 2500\n",
    "    servo_pulse(angle_1, angle_2)"
   ]
  },
  {
   "cell_type": "markdown",
   "metadata": {},
   "source": [
    "##  Close thread"
   ]
  },
  {
   "cell_type": "code",
   "execution_count": null,
   "metadata": {},
   "outputs": [],
   "source": [
    "def _async_raise(tid, exctype):\n",
    "    \"\"\"raises the exception, performs cleanup if needed\"\"\"\n",
    "    tid = ctypes.c_long(tid)\n",
    "    if not inspect.isclass(exctype):\n",
    "        exctype = type(exctype)\n",
    "    res = ctypes.pythonapi.PyThreadState_SetAsyncExc(tid, ctypes.py_object(exctype))\n",
    "    if res == 0:\n",
    "        raise ValueError(\"invalid thread id\")\n",
    "    elif res != 1:\n",
    "        # \"\"\"if it returns a number greater than one, you're in trouble,\n",
    "        # and you should call it again with exc=NULL to revert the effect\"\"\"\n",
    "        ctypes.pythonapi.PyThreadState_SetAsyncExc(tid, None)\n",
    "        \n",
    "def stop_thread(thread):\n",
    "    _async_raise(thread.ident, SystemExit)"
   ]
  },
  {
   "cell_type": "code",
   "execution_count": null,
   "metadata": {},
   "outputs": [],
   "source": [
    "image = cv2.VideoCapture(0)\n",
    "image.set(3, 640)\n",
    "image.set(4, 480)\n",
    "image.set(5, 120)   #set frame\n",
    "image.set(cv2.CAP_PROP_FOURCC, cv2.VideoWriter.fourcc('M', 'J', 'P', 'G'))\n",
    "image.set(cv2.CAP_PROP_BRIGHTNESS, 20) #set brihtgness -64 - 64  0.0\n",
    "image.set(cv2.CAP_PROP_CONTRAST, 20)   #set contrast -64 - 64  2.0\n",
    "ret, frame = image.read()\n",
    "image_widget.value = bgr8_to_jpeg(frame)"
   ]
  },
  {
   "cell_type": "markdown",
   "metadata": {},
   "source": [
    "## creat control value"
   ]
  },
  {
   "cell_type": "code",
   "execution_count": null,
   "metadata": {},
   "outputs": [],
   "source": [
    "global color_x, color_y, color_radius\n",
    "color_x = color_y = color_radius = 0\n",
    "global target_valuex\n",
    "target_valuex = 1500\n",
    "global target_valuey\n",
    "target_valuey = 1500\n",
    "global g_mode\n",
    "g_mode = 0"
   ]
  },
  {
   "cell_type": "markdown",
   "metadata": {},
   "source": [
    "## Create an array to store HSV color gamut color classification data"
   ]
  },
  {
   "cell_type": "code",
   "execution_count": null,
   "metadata": {},
   "outputs": [],
   "source": [
    "import numpy as np\n",
    "global color_lower\n",
    "color_lower = np.array([156, 43, 46])\n",
    "global color_upperv\n",
    "color_upper = np.array([180, 255, 255])"
   ]
  },
  {
   "cell_type": "markdown",
   "metadata": {},
   "source": [
    "## Create PID parameter"
   ]
  },
  {
   "cell_type": "code",
   "execution_count": null,
   "metadata": {},
   "outputs": [],
   "source": [
    "import PID\n",
    "xservo_pid = PID.PositionalPID(0.8, 0.1, 0.3)\n",
    "yservo_pid = PID.PositionalPID(0.4, 0.1, 0.2)"
   ]
  },
  {
   "cell_type": "markdown",
   "metadata": {},
   "source": [
    "## Choose color button"
   ]
  },
  {
   "cell_type": "code",
   "execution_count": null,
   "metadata": {},
   "outputs": [],
   "source": [
    "Redbutton = widgets.Button(     \n",
    "    value=False,     \n",
    "    description='Red',     \n",
    "    disabled=False,     \n",
    "    button_style='', # 'success', 'info', 'warning', 'danger' or ''     \n",
    "    tooltip='Description',     \n",
    "    icon='uncheck' )\n",
    "Greenbutton = widgets.Button(     \n",
    "    value=False,     \n",
    "    description='Green',     \n",
    "    disabled=False,     \n",
    "    button_style='', # 'success', 'info', 'warning', 'danger' or ''     \n",
    "    tooltip='Description',     \n",
    "    icon='uncheck' )\n",
    "Bluebutton = widgets.Button(     \n",
    "    value=False,     \n",
    "    description='Blue',     \n",
    "    disabled=False,     \n",
    "    button_style='', # 'success', 'info', 'warning', 'danger' or ''     \n",
    "    tooltip='Description',     \n",
    "    icon='uncheck' )\n",
    "Yellowbutton = widgets.Button(     \n",
    "    value=False,     \n",
    "    description='Yellow',     \n",
    "    disabled=False,     \n",
    "    button_style='', # 'success', 'info', 'warning', 'danger' or ''     \n",
    "    tooltip='Description',     \n",
    "    icon='uncheck' )\n",
    "Orangebutton = widgets.Button(     \n",
    "    value=False,     \n",
    "    description='Orange',     \n",
    "    disabled=False,     \n",
    "    button_style='', # 'success', 'info', 'warning', 'danger' or ''     \n",
    "    tooltip='Description',     \n",
    "    icon='uncheck' )\n",
    "Closebutton = widgets.Button(     \n",
    "    value=False,     \n",
    "    description='Closed',     \n",
    "    disabled=False,     \n",
    "    button_style='', # 'success', 'info', 'warning', 'danger' or ''     \n",
    "    tooltip='Description',     \n",
    "    icon='uncheck' )\n",
    "output = widgets.Output()\n",
    "display(Redbutton, Greenbutton, Bluebutton, Yellowbutton, Orangebutton, Closebutton, output)\n",
    "\n",
    "def ALL_Uncheck():\n",
    "    Redbutton.icon = 'uncheck'\n",
    "    Greenbutton.icon = 'uncheck'\n",
    "    Bluebutton.icon = 'uncheck'\n",
    "    Yellowbutton.icon = 'uncheck'\n",
    "    Orangebutton.icon = 'uncheck'\n",
    "    \n",
    "def on_Redbutton_clicked(b):\n",
    "    global color_lower, color_upper, g_mode \n",
    "    global target_valuex, target_valuey\n",
    "    ALL_Uncheck()\n",
    "    b.icon = 'check'\n",
    "    color_lower = np.array([0, 43, 46])\n",
    "    color_upper = np.array([10, 255, 255])\n",
    "    target_valuex = target_valuey = 2048\n",
    "    Servo_control(1500, 1500)\n",
    "    g_mode = 1\n",
    "    with output:\n",
    "        print(\"RedButton clicked.\")\n",
    "\n",
    "def on_Greenbutton_clicked(b):\n",
    "    global color_lower, color_upper, g_mode \n",
    "    global target_valuex, target_valuey\n",
    "    ALL_Uncheck()\n",
    "    b.icon = 'check'\n",
    "    color_lower = np.array([35, 43, 46])\n",
    "    color_upper = np.array([77, 255, 255])\n",
    "    target_valuex = target_valuey = 2048\n",
    "    Servo_control(1500, 1500)\n",
    "    g_mode = 1\n",
    "    with output:\n",
    "        print(\"GreenButton clicked.\")\n",
    "        \n",
    "def on_Bluebutton_clicked(b):\n",
    "    global color_lower, color_upper, g_mode \n",
    "    global target_valuex, target_valuey\n",
    "    ALL_Uncheck()\n",
    "    b.icon = 'check'\n",
    "    color_lower=np.array([100, 43, 46])\n",
    "    color_upper = np.array([124, 255, 255])\n",
    "    target_valuex = target_valuey = 2048\n",
    "    Servo_control(1500, 1500)\n",
    "    g_mode = 1\n",
    "    with output:\n",
    "        print(\"Bluebutton clicked.\")   \n",
    "\n",
    "def on_Yellowbutton_clicked(b):\n",
    "    global color_lower, color_upper, g_mode \n",
    "    global target_valuex, target_valuey\n",
    "    ALL_Uncheck()\n",
    "    b.icon = 'check'\n",
    "    color_lower = np.array([26, 43, 46])\n",
    "    color_upper = np.array([34, 255, 255])\n",
    "    target_valuex = target_valuey = 2048\n",
    "    Servo_control(1500, 1500)\n",
    "    g_mode = 1\n",
    "    with output:\n",
    "        print(\"Yellowbutton clicked.\")\n",
    "        \n",
    "def on_Orangebutton_clicked(b):\n",
    "    global color_lower, color_upper, g_mode \n",
    "    global target_valuex, target_valuey\n",
    "    ALL_Uncheck()\n",
    "    b.icon = 'check'\n",
    "    color_lower = np.array([11, 43, 46])\n",
    "    color_upper = np.array([25, 255, 255])\n",
    "    target_valuex = target_valuey = 2048\n",
    "    Servo_control(1500, 1500)\n",
    "    g_mode = 1\n",
    "    with output:\n",
    "        print(\"Orangebutton clicked.\")\n",
    "        \n",
    "def on_Closebutton_clicked(b):  \n",
    "    global g_mode \n",
    "    \n",
    "    ALL_Uncheck()\n",
    "    g_mode = 0\n",
    "    with output:\n",
    "        print(\"CloseButton clicked.\")\n",
    "\n",
    "Redbutton.on_click(on_Redbutton_clicked)\n",
    "Greenbutton.on_click(on_Greenbutton_clicked)\n",
    "Bluebutton.on_click(on_Bluebutton_clicked)\n",
    "Yellowbutton.on_click(on_Yellowbutton_clicked)\n",
    "Orangebutton.on_click(on_Orangebutton_clicked)\n",
    "Closebutton.on_click(on_Closebutton_clicked)"
   ]
  },
  {
   "cell_type": "markdown",
   "metadata": {},
   "source": []
  },
  {
   "cell_type": "markdown",
   "metadata": {},
   "source": [
    "##  PTZ contro main process"
   ]
  },
  {
   "cell_type": "code",
   "execution_count": null,
   "metadata": {},
   "outputs": [],
   "source": [
    "def Color_track():\n",
    "    global color_lower, color_upper, g_mode \n",
    "    global target_valuex, target_valuey\n",
    "    t_start = time.time()\n",
    "    fps = 0\n",
    "    times = 0\n",
    "    while True:\n",
    "        ret, frame = image.read()\n",
    "        frame = cv2.resize(frame, (300, 300))\n",
    "        frame_ = cv2.GaussianBlur(frame,(5,5),0)                    \n",
    "        hsv = cv2.cvtColor(frame,cv2.COLOR_BGR2HSV)\n",
    "        mask = cv2.inRange(hsv,color_lower,color_upper)  \n",
    "        mask = cv2.erode(mask,None,iterations=2)\n",
    "        mask = cv2.dilate(mask,None,iterations=2)\n",
    "        mask = cv2.GaussianBlur(mask,(3,3),0)     \n",
    "        cnts = cv2.findContours(mask.copy(),cv2.RETR_EXTERNAL,cv2.CHAIN_APPROX_SIMPLE)[-2] \n",
    "        if g_mode == 1: # 按钮切换开关\n",
    "            if len(cnts) > 0:\n",
    "                cnt = max (cnts, key = cv2.contourArea)\n",
    "                (color_x,color_y),color_radius = cv2.minEnclosingCircle(cnt)\n",
    "                if color_radius > 10:\n",
    "                    times =  times +  1\n",
    "                    # Mark the detected colors\n",
    "                    cv2.circle(frame,(int(color_x),int(color_y)),int(color_radius),(255,0,255),2)  \n",
    "                    # Proportion-Integration-Differentiation\n",
    "                    xservo_pid.SystemOutput = color_x\n",
    "                    xservo_pid.SetStepSignal(150)\n",
    "                    xservo_pid.SetInertiaTime(0.01, 0.1)\n",
    "                    target_valuex = int(1500+xservo_pid.SystemOutput)\n",
    "                    yservo_pid.SystemOutput = color_y\n",
    "                    yservo_pid.SetStepSignal(150)\n",
    "                    yservo_pid.SetInertiaTime(0.01, 0.1)\n",
    "                    target_valuey = int(1500+yservo_pid.SystemOutput)\n",
    "                    time.sleep(0.008)\n",
    "                    if times == 5 :\n",
    "                        times = 0 \n",
    "                        Servo_control(target_valuex,target_valuey)\n",
    "        fps = fps + 1\n",
    "        mfps = fps / (time.time() - t_start)\n",
    "        cv2.putText(frame, \"FPS \" + str(int(mfps)), (40,40), cv2.FONT_HERSHEY_SIMPLEX, 0.8, (0,255,255), 3)\n",
    "        # display video in real time\n",
    "        image_widget.value = bgr8_to_jpeg(frame)"
   ]
  },
  {
   "cell_type": "markdown",
   "metadata": {},
   "source": [
    "##  Start thread process"
   ]
  },
  {
   "cell_type": "code",
   "execution_count": null,
   "metadata": {},
   "outputs": [],
   "source": [
    "thread1 = threading.Thread(target=Color_track)\n",
    "thread1.setDaemon(True)\n",
    "thread1.start()\n"
   ]
  },
  {
   "cell_type": "markdown",
   "metadata": {},
   "source": [
    "##  Close thread process"
   ]
  },
  {
   "cell_type": "code",
   "execution_count": null,
   "metadata": {},
   "outputs": [],
   "source": [
    "stop_thread(thread1)"
   ]
  },
  {
   "cell_type": "code",
   "execution_count": null,
   "metadata": {},
   "outputs": [],
   "source": []
  }
 ],
 "metadata": {
  "kernelspec": {
   "display_name": "Python 3",
   "language": "python",
   "name": "python3"
  },
  "language_info": {
   "codemirror_mode": {
    "name": "ipython",
    "version": 3
   },
   "file_extension": ".py",
   "mimetype": "text/x-python",
   "name": "python",
   "nbconvert_exporter": "python",
   "pygments_lexer": "ipython3",
   "version": "3.7.3"
  }
 },
 "nbformat": 4,
 "nbformat_minor": 4
}
