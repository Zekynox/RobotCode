{
 "cells": [
  {
   "cell_type": "markdown",
   "metadata": {},
   "source": [
    "<center><img src=\"../../logo.png\" alt=\"Header\" style=\"width: 800px;\"/></center>"
   ]
  },
  {
   "cell_type": "markdown",
   "metadata": {},
   "source": [
    "@Copyright (C): 2010-2022, Shenzhen Yahboom Tech  \n",
    "@Author: Liusen  \n",
    "@Date: 2020-02-12 10:10:02  \n",
    "@LastEditors:  Liusen   \n",
    "@LastEditTime: 2020-02-13 16:40:19  "
   ]
  },
  {
   "cell_type": "code",
   "execution_count": null,
   "metadata": {},
   "outputs": [],
   "source": [
    "#bgr8 to jpeg format\n",
    "import enum\n",
    "import cv2\n",
    "\n",
    "def bgr8_to_jpeg(value, quality=75):\n",
    "    return bytes(cv2.imencode('.jpg', value)[1])"
   ]
  },
  {
   "cell_type": "markdown",
   "metadata": {},
   "source": [
    "## Import related packages and create camera instances"
   ]
  },
  {
   "cell_type": "code",
   "execution_count": null,
   "metadata": {},
   "outputs": [],
   "source": [
    "\n",
    "import cv2\n",
    "import ipywidgets.widgets as widgets\n",
    "import threading\n",
    "import time\n",
    "import sys\n",
    "\n",
    "\n",
    "image_widget = widgets.Image(format='jpeg', width=450, height=450)\n",
    "display(image_widget)\n",
    "\n"
   ]
  },
  {
   "cell_type": "markdown",
   "metadata": {},
   "source": [
    "# Add PID slider to adjust PID value"
   ]
  },
  {
   "cell_type": "code",
   "execution_count": null,
   "metadata": {},
   "outputs": [],
   "source": [
    "import ipywidgets as widgets\n",
    "    \n",
    "XServo_P = widgets.FloatSlider(\n",
    "value=1.1,\n",
    "min=0,\n",
    "max=10.0,\n",
    "step=0.1,\n",
    "description='XServo-P:',\n",
    "disabled=False,\n",
    "continuous_update=False,\n",
    "orientation='horizontal',\n",
    "readout=True,\n",
    "readout_format='.1f',\n",
    ")\n",
    "\n",
    "XServo_I = widgets.FloatSlider(\n",
    "value=0.2,\n",
    "min=0,\n",
    "max=10.0,\n",
    "step=0.1,\n",
    "description='XServo-I:',\n",
    "disabled=False,\n",
    "continuous_update=False,\n",
    "orientation='horizontal',\n",
    "readout=True,\n",
    "readout_format='.1f',\n",
    ")\n",
    "\n",
    "XServo_D = widgets.FloatSlider(\n",
    "value=0.8,\n",
    "min=0,\n",
    "max=10.0,\n",
    "step=0.1,\n",
    "description='XServer-D:',\n",
    "disabled=False,\n",
    "continuous_update=False,\n",
    "orientation='horizontal',\n",
    "readout=True,\n",
    "readout_format='.1f',\n",
    ")\n",
    "\n",
    "YServo_P = widgets.FloatSlider(\n",
    "value=0.8,\n",
    "min=0,\n",
    "max=10.0,\n",
    "step=0.1,\n",
    "description='YServo-P:',\n",
    "disabled=False,\n",
    "continuous_update=False,\n",
    "orientation='horizontal',\n",
    "readout=True,\n",
    "readout_format='.1f',\n",
    ")\n",
    "\n",
    "YServo_I = widgets.FloatSlider(\n",
    "value=0.2,\n",
    "min=0,\n",
    "max=10.0,\n",
    "step=0.1,\n",
    "description='YServo-I:',\n",
    "disabled=False,\n",
    "continuous_update=False,\n",
    "orientation='horizontal',\n",
    "readout=True,\n",
    "readout_format='.1f',\n",
    ")\n",
    "\n",
    "YServo_D = widgets.FloatSlider(\n",
    "value=0.8,\n",
    "min=0,\n",
    "max=10.0,\n",
    "step=0.1,\n",
    "description='YServer-D:',\n",
    "disabled=False,\n",
    "continuous_update=False,\n",
    "orientation='horizontal',\n",
    "readout=True,\n",
    "readout_format='.1f',\n",
    ")\n",
    "display(XServo_P, XServo_I, XServo_D, YServo_P, YServo_I, YServo_D)"
   ]
  },
  {
   "cell_type": "markdown",
   "metadata": {},
   "source": []
  },
  {
   "cell_type": "markdown",
   "metadata": {},
   "source": [
    "## Create related control variables"
   ]
  },
  {
   "cell_type": "code",
   "execution_count": null,
   "metadata": {},
   "outputs": [],
   "source": [
    "global face_x, face_y, face_w, face_h\n",
    "face_x = face_y = face_w = face_h = 0\n",
    "global target_valuex\n",
    "target_valuex = 1500\n",
    "global target_valuey\n",
    "target_valuey = 1500"
   ]
  },
  {
   "cell_type": "markdown",
   "metadata": {},
   "source": [
    "## set PID parameter, You can adjust this parameter according to the actual situation"
   ]
  },
  {
   "cell_type": "code",
   "execution_count": null,
   "metadata": {},
   "outputs": [],
   "source": [
    "import PID\n",
    "xservo_pid = PID.PositionalPID(0.8, 0.1, 0.3)\n",
    "yservo_pid = PID.PositionalPID(0.4, 0.1, 0.2)\n",
    "#xservo_pid = PID.PositionalPID(XServo_P.value, XServo_I.value, XServo_D.value)\n",
    "#yservo_pid = PID.PositionalPID(YServo_P.value, YServo_I.value, YServo_D.value)"
   ]
  },
  {
   "cell_type": "markdown",
   "metadata": {},
   "source": [
    "## set GPIO口 to BCM coding method"
   ]
  },
  {
   "cell_type": "code",
   "execution_count": null,
   "metadata": {},
   "outputs": [],
   "source": [
    "import RPi.GPIO as GPIO\n",
    "import time\n",
    "\n",
    "GPIO.setmode(GPIO.BCM)\n",
    "# define servo pin\n",
    "ServoPin = 11  #S2\n",
    "ServoPinB = 9  #S3"
   ]
  },
  {
   "cell_type": "code",
   "execution_count": null,
   "metadata": {},
   "outputs": [],
   "source": [
    "# Set the servo pin to output mode\n",
    "def init():\n",
    "    GPIO.setup(ServoPin, GPIO.OUT)\n",
    "    GPIO.setup(ServoPinB, GPIO.OUT)"
   ]
  },
  {
   "cell_type": "code",
   "execution_count": null,
   "metadata": {},
   "outputs": [],
   "source": [
    "#Define a pulse function, used to simulate the pwm value\n",
    "#Time base pulse is 20ms, the high level part of the pulse is controlled from 0 to 180 degrees in 0.5-2.5ms\n",
    "def servo_pulse(myangleA, myangleB):\n",
    "    pulsewidth = myangleA\n",
    "    GPIO.output(ServoPin, GPIO.HIGH)\n",
    "    time.sleep(pulsewidth/1000000.0)\n",
    "    GPIO.output(ServoPin, GPIO.LOW)\n",
    "    time.sleep(20.0/1000-pulsewidth/1000000.0)\n",
    "    \n",
    "    pulsewidthB = myangleB\n",
    "    GPIO.output(ServoPinB, GPIO.HIGH)\n",
    "    time.sleep(pulsewidthB/1000000.0)\n",
    "    GPIO.output(ServoPinB, GPIO.LOW)\n",
    "    time.sleep(20.0/1000-pulsewidthB/1000000.0)"
   ]
  },
  {
   "cell_type": "code",
   "execution_count": null,
   "metadata": {},
   "outputs": [],
   "source": [
    "#According to the steering gear pulse control range is 500-2500usec\n",
    "def Servo_control(angle_1, angle_2):\n",
    "    init()\n",
    "    if angle_1 < 500:\n",
    "        angle_1 = 500\n",
    "    elif angle_1 > 2500:\n",
    "        angle_1 = 2500\n",
    "        \n",
    "    if angle_2 < 500:\n",
    "        angle_2 = 500\n",
    "    elif angle_2 > 2500:\n",
    "        angle_2 = 2500\n",
    "    servo_pulse(angle_1, angle_2)"
   ]
  },
  {
   "cell_type": "markdown",
   "metadata": {},
   "source": [
    "## Load \"Haar\"\" Cascade Classifier"
   ]
  },
  {
   "cell_type": "code",
   "execution_count": null,
   "metadata": {},
   "outputs": [],
   "source": [
    "import cv2\n",
    "face_haar = cv2.CascadeClassifier('haarcascade_frontalface_default.xml')"
   ]
  },
  {
   "cell_type": "markdown",
   "metadata": {},
   "source": [
    "#  Open camera"
   ]
  },
  {
   "cell_type": "code",
   "execution_count": null,
   "metadata": {},
   "outputs": [],
   "source": [
    "image = cv2.VideoCapture(0)\n",
    "image.set(3,450)\n",
    "image.set(4,450)\n",
    "ret, frame = image.read()\n",
    "image_widget.value = bgr8_to_jpeg(frame)"
   ]
  },
  {
   "cell_type": "markdown",
   "metadata": {},
   "source": [
    "## Main loop"
   ]
  },
  {
   "cell_type": "code",
   "execution_count": null,
   "metadata": {},
   "outputs": [],
   "source": [
    "global target_valuex, target_valuey\n",
    "times = 0\n",
    "t_start = time.time()\n",
    "while True:\n",
    "    ret, frame = image.read()\n",
    "#     try:\n",
    "#         image_widget.value = bgr8_to_jpeg(frame)\n",
    "#     except:\n",
    "#         continue\n",
    "    # Convert image to black-white image\n",
    "    gray_img = cv2.cvtColor(frame, cv2.COLOR_BGR2GRAY)\n",
    "    faces = face_haar.detectMultiScale(gray_img, 1.1, 3)\n",
    "    #xservo_pid = PID.PositionalPID(XServo_P.value, XServo_I.value, XServo_D.value)\n",
    "    #yservo_pid = PID.PositionalPID(YServo_P.value, YServo_I.value, YServo_D.value)\n",
    "\n",
    "    if len(faces) > 0:\n",
    "        times = times +1\n",
    "        (face_x, face_y, face_w, face_h) = faces[0]\n",
    "        # cv2.rectangle(frame,(face_x+10,face_y),(face_x+face_w-10,face_y+face_h+20),(0,255,0),2)\n",
    "        cv2.rectangle(frame,(face_x,face_y),(face_x+face_w,face_y+face_h),(0,255,0),2)\n",
    "#         try:\n",
    "#             image_widget.value = bgr8_to_jpeg(frame)\n",
    "#         except:\n",
    "#             continue\n",
    "        #Proportion-Integration-Differentiation\n",
    "        xservo_pid.SystemOutput = face_x + face_w/2\n",
    "        xservo_pid.SetStepSignal(150)\n",
    "        xservo_pid.SetInertiaTime(0.01, 0.1)\n",
    "        target_valuex = int(1500 + xservo_pid.SystemOutput)\n",
    "        \n",
    "        yservo_pid.SystemOutput = face_y + face_h/2\n",
    "        yservo_pid.SetStepSignal(150)\n",
    "        yservo_pid.SetInertiaTime(0.01, 0.1)\n",
    "        target_valuey = int(1500 + yservo_pid.SystemOutput)\n",
    "        if times == 5:\n",
    "            times = 0\n",
    "        Servo_control(target_valuex,target_valuey)\n",
    "    image_widget.value = bgr8_to_jpeg(frame)"
   ]
  },
  {
   "cell_type": "code",
   "execution_count": null,
   "metadata": {},
   "outputs": [],
   "source": []
  },
  {
   "cell_type": "code",
   "execution_count": null,
   "metadata": {},
   "outputs": [],
   "source": []
  }
 ],
 "metadata": {
  "kernelspec": {
   "display_name": "Python 3",
   "language": "python",
   "name": "python3"
  },
  "language_info": {
   "codemirror_mode": {
    "name": "ipython",
    "version": 3
   },
   "file_extension": ".py",
   "mimetype": "text/x-python",
   "name": "python",
   "nbconvert_exporter": "python",
   "pygments_lexer": "ipython3",
   "version": "3.7.3"
  }
 },
 "nbformat": 4,
 "nbformat_minor": 4
}
